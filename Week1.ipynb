{
 "cells": [
  {
   "cell_type": "markdown",
   "metadata": {},
   "source": [
    "# Introduction"
   ]
  },
  {
   "cell_type": "markdown",
   "metadata": {},
   "source": [
    "## Background\n",
    "Moving to another country, far from one's native city, can be hard. This is even more relevant if the person has no relatives or friends in the considered country to suggest him the best borough of a certain city. Another case is when someone is willing to buy a house without having the chance to see it. Choosing the best area can be extremely difficult."
   ]
  },
  {
   "cell_type": "markdown",
   "metadata": {},
   "source": [
    "## Business Problem\n",
    "In this scenario, it can be helpful to adopt Machine Learning to assist those who are willing to move the Melbourne to make wise and effective decisions. As a result, the business problem we are currently posing is: how could we support those who want to purchase a suitable real estate in Melbourne?\n",
    "\n",
    "To solve this business problem, we are going to cluster Melbourne in order to recommend venues and the current average price of real estate where homebuyers can make a real estate investment. We will recommend profitable venues according to amenities and essential facilities surrounding such venues i.e. elementary schools, high schools, hospitals & grocery stores."
   ]
  },
  {
   "cell_type": "markdown",
   "metadata": {},
   "source": [
    "# Data"
   ]
  },
  {
   "cell_type": "markdown",
   "metadata": {},
   "source": [
    "Data on Melbourne recent house transactions were extracted from the Kaggle dataset __Melbourne Housing Market__\n",
    "(https://www.kaggle.com/anthonypino/melbourne-housing-market#Melbourne_housing_FULL.csv).\n",
    "The given fields comprise the address (suburb), the number of rooms, the price in Australian dollars, etc on more than 30k transactions.\n",
    "\n",
    "To explore and target recommended locations across different venues according to the presence of amenities and essential facilities, we will access data through FourSquare API interface and arrange them as a dataframe for visualization. By merging data on Melbourne properties and the relative price paid data from the dataset and data on amenities and essential facilities surrounding such properties from FourSquare API interface, we will be able to recommend profitable real estate investments."
   ]
  }
 ],
 "metadata": {
  "kernelspec": {
   "display_name": "Python 3",
   "language": "python",
   "name": "python3"
  },
  "language_info": {
   "codemirror_mode": {
    "name": "ipython",
    "version": 3
   },
   "file_extension": ".py",
   "mimetype": "text/x-python",
   "name": "python",
   "nbconvert_exporter": "python",
   "pygments_lexer": "ipython3",
   "version": "3.7.4"
  }
 },
 "nbformat": 4,
 "nbformat_minor": 2
}
